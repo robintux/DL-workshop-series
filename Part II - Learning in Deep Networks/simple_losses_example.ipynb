{
  "nbformat": 4,
  "nbformat_minor": 0,
  "metadata": {
    "colab": {
      "name": "simple_losses_example.ipynb",
      "version": "0.3.2",
      "provenance": [],
      "collapsed_sections": [],
      "include_colab_link": true
    },
    "kernelspec": {
      "name": "python3",
      "display_name": "Python 3"
    }
  },
  "cells": [
    {
      "cell_type": "markdown",
      "metadata": {
        "id": "view-in-github",
        "colab_type": "text"
      },
      "source": [
        "<a href=\"https://colab.research.google.com/github/Machine-Learning-Tokyo/DL-workshop-series/blob/master/Part%20II%20-%20Learning%20in%20Deep%20Networks/simple_losses_example.ipynb\" target=\"_parent\"><img src=\"https://colab.research.google.com/assets/colab-badge.svg\" alt=\"Open In Colab\"/></a>"
      ]
    },
    {
      "metadata": {
        "id": "ayZgaL3k0fWX",
        "colab_type": "text"
      },
      "cell_type": "markdown",
      "source": [
        "## Losses example from slides"
      ]
    },
    {
      "metadata": {
        "id": "Sh-DJx2rqvij",
        "colab_type": "code",
        "colab": {}
      },
      "cell_type": "code",
      "source": [
        "import keras\n",
        "from keras.models import Sequential\n",
        "from keras.layers import Lambda\n",
        "from keras.losses import mse, mae, binary_crossentropy\n",
        "import keras.backend as K\n",
        "\n",
        "import numpy as np"
      ],
      "execution_count": 0,
      "outputs": []
    },
    {
      "metadata": {
        "id": "_iiO2Ya9rfdM",
        "colab_type": "code",
        "colab": {}
      },
      "cell_type": "code",
      "source": [
        "y_true = [[1, 0],\n",
        "          [0, 1],\n",
        "          [1, 0]]\n",
        "\n",
        "y_pred = [[0.9, 0.1],\n",
        "          [0.1, 0.9],\n",
        "          [0.4, 0.6]]\n",
        "\n",
        "# y_true = [[1, 0],\n",
        "#           [0, 1],\n",
        "#           [1, 0]]\n",
        "\n",
        "# y_pred = [[0.6, 0.4],\n",
        "#           [0.3, 0.7],\n",
        "#           [0.1, 0.9]]\n",
        "\n",
        "y_true = np.array(y_true)\n",
        "y_pred = np.array(y_pred)"
      ],
      "execution_count": 0,
      "outputs": []
    },
    {
      "metadata": {
        "id": "6D2z46SXrtSe",
        "colab_type": "code",
        "colab": {}
      },
      "cell_type": "code",
      "source": [
        "K.clear_session()\n",
        "model = Sequential([Lambda(lambda x: x, input_shape=(2,))])"
      ],
      "execution_count": 0,
      "outputs": []
    },
    {
      "metadata": {
        "id": "3Ji7xtcO0kgB",
        "colab_type": "code",
        "colab": {}
      },
      "cell_type": "code",
      "source": [
        "def classification_error(y_true, y_pred):\n",
        "  x = K.cast(K.not_equal(K.round(y_pred), y_true), dtype='float32')\n",
        "  return K.sum(x) / (K.sum(y_true) * 2)"
      ],
      "execution_count": 0,
      "outputs": []
    },
    {
      "metadata": {
        "id": "Mheuik7G1LjE",
        "colab_type": "code",
        "colab": {}
      },
      "cell_type": "code",
      "source": [
        "model.compile('sgd', classification_error)\n",
        "loss = model.evaluate(y_pred, y_true, verbose=0)\n",
        "print('%.2f' % loss)"
      ],
      "execution_count": 0,
      "outputs": []
    },
    {
      "metadata": {
        "id": "H4-W8r3osSyS",
        "colab_type": "code",
        "colab": {}
      },
      "cell_type": "code",
      "source": [
        "model.compile('sgd', mse)\n",
        "loss = model.evaluate(y_pred, y_true, verbose=0)\n",
        "print('%.2f' % loss)"
      ],
      "execution_count": 0,
      "outputs": []
    },
    {
      "metadata": {
        "id": "deTVn4mQy-oU",
        "colab_type": "code",
        "colab": {}
      },
      "cell_type": "code",
      "source": [
        "model.compile('sgd', binary_crossentropy)\n",
        "loss = model.evaluate(y_pred, y_true, verbose=0)\n",
        "print('%.2f' % loss)"
      ],
      "execution_count": 0,
      "outputs": []
    },
    {
      "metadata": {
        "id": "5v8-_AND35aU",
        "colab_type": "code",
        "colab": {}
      },
      "cell_type": "code",
      "source": [
        "model.compile('sgd', mae)\n",
        "loss = model.evaluate(y_pred, y_true, verbose=0)\n",
        "print('%.2f' % loss)"
      ],
      "execution_count": 0,
      "outputs": []
    }
  ]
}